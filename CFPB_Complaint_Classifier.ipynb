{
  "nbformat": 4,
  "nbformat_minor": 0,
  "metadata": {
    "colab": {
      "name": "CFPB_Complaint_Classifier.ipynb",
      "provenance": [],
      "collapsed_sections": [],
      "toc_visible": true,
      "machine_shape": "hm",
      "include_colab_link": true
    },
    "kernelspec": {
      "name": "python3",
      "display_name": "Python 3"
    },
    "accelerator": "GPU"
  },
  "cells": [
    {
      "cell_type": "markdown",
      "metadata": {
        "id": "view-in-github",
        "colab_type": "text"
      },
      "source": [
        "<a href=\"https://colab.research.google.com/github/seanmcalevey/cfpb_complaint_clf/blob/master/CFPB_Complaint_Classifier.ipynb\" target=\"_parent\"><img src=\"https://colab.research.google.com/assets/colab-badge.svg\" alt=\"Open In Colab\"/></a>"
      ]
    },
    {
      "cell_type": "code",
      "metadata": {
        "id": "qWZfespIZ5_1",
        "colab_type": "code",
        "colab": {}
      },
      "source": [
        "import numpy as np\n",
        "import pandas as pd\n",
        "import re"
      ],
      "execution_count": 0,
      "outputs": []
    },
    {
      "cell_type": "markdown",
      "metadata": {
        "id": "FCBnurdZOTYq",
        "colab_type": "text"
      },
      "source": [
        "# Start of preprocessing"
      ]
    },
    {
      "cell_type": "code",
      "metadata": {
        "id": "NjaCceEggfXa",
        "colab_type": "code",
        "outputId": "26bb97f4-a9a9-4bff-d8d7-8c537594fba4",
        "colab": {
          "base_uri": "https://localhost:8080/",
          "height": 125
        }
      },
      "source": [
        "from google.colab import drive\n",
        "\n",
        "drive.mount('/content/drive', force_remount=True)"
      ],
      "execution_count": 2,
      "outputs": [
        {
          "output_type": "stream",
          "text": [
            "Go to this URL in a browser: https://accounts.google.com/o/oauth2/auth?client_id=947318989803-6bn6qk8qdgf4n4g3pfee6491hc0brc4i.apps.googleusercontent.com&redirect_uri=urn%3aietf%3awg%3aoauth%3a2.0%3aoob&response_type=code&scope=email%20https%3a%2f%2fwww.googleapis.com%2fauth%2fdocs.test%20https%3a%2f%2fwww.googleapis.com%2fauth%2fdrive%20https%3a%2f%2fwww.googleapis.com%2fauth%2fdrive.photos.readonly%20https%3a%2f%2fwww.googleapis.com%2fauth%2fpeopleapi.readonly\n",
            "\n",
            "Enter your authorization code:\n",
            "··········\n",
            "Mounted at /content/drive\n"
          ],
          "name": "stdout"
        }
      ]
    },
    {
      "cell_type": "markdown",
      "metadata": {
        "id": "phUlwg6ycB9R",
        "colab_type": "text"
      },
      "source": [
        "### Store in DataFrame\n",
        "\n",
        "##### Store dataset in pandas dataframe. Only keep rows with narratives."
      ]
    },
    {
      "cell_type": "code",
      "metadata": {
        "id": "L4gUMWVAqllj",
        "colab_type": "code",
        "outputId": "a5c4d88e-4b91-4108-a264-2fa9c3a5ac0d",
        "colab": {
          "base_uri": "https://localhost:8080/",
          "height": 72
        }
      },
      "source": [
        "master_df = pd.read_csv('/content/drive/My Drive/Consumer_Complaints.csv')"
      ],
      "execution_count": 3,
      "outputs": [
        {
          "output_type": "stream",
          "text": [
            "/usr/local/lib/python3.6/dist-packages/IPython/core/interactiveshell.py:2718: DtypeWarning: Columns (5,6,11,16) have mixed types.Specify dtype option on import or set low_memory=False.\n",
            "  interactivity=interactivity, compiler=compiler, result=result)\n"
          ],
          "name": "stderr"
        }
      ]
    },
    {
      "cell_type": "code",
      "metadata": {
        "id": "BBkgxRNGaRd-",
        "colab_type": "code",
        "outputId": "09d4c7de-bc7b-42a0-fc31-1015690613a2",
        "colab": {
          "base_uri": "https://localhost:8080/",
          "height": 717
        }
      },
      "source": [
        "proc_df = master_df.dropna(subset=['Consumer complaint narrative'])\n",
        "\n",
        "proc_df.head()"
      ],
      "execution_count": 4,
      "outputs": [
        {
          "output_type": "execute_result",
          "data": {
            "text/html": [
              "<div>\n",
              "<style scoped>\n",
              "    .dataframe tbody tr th:only-of-type {\n",
              "        vertical-align: middle;\n",
              "    }\n",
              "\n",
              "    .dataframe tbody tr th {\n",
              "        vertical-align: top;\n",
              "    }\n",
              "\n",
              "    .dataframe thead th {\n",
              "        text-align: right;\n",
              "    }\n",
              "</style>\n",
              "<table border=\"1\" class=\"dataframe\">\n",
              "  <thead>\n",
              "    <tr style=\"text-align: right;\">\n",
              "      <th></th>\n",
              "      <th>Date received</th>\n",
              "      <th>Product</th>\n",
              "      <th>Sub-product</th>\n",
              "      <th>Issue</th>\n",
              "      <th>Sub-issue</th>\n",
              "      <th>Consumer complaint narrative</th>\n",
              "      <th>Company public response</th>\n",
              "      <th>Company</th>\n",
              "      <th>State</th>\n",
              "      <th>ZIP code</th>\n",
              "      <th>Tags</th>\n",
              "      <th>Consumer consent provided?</th>\n",
              "      <th>Submitted via</th>\n",
              "      <th>Date sent to company</th>\n",
              "      <th>Company response to consumer</th>\n",
              "      <th>Timely response?</th>\n",
              "      <th>Consumer disputed?</th>\n",
              "      <th>Complaint ID</th>\n",
              "    </tr>\n",
              "  </thead>\n",
              "  <tbody>\n",
              "    <tr>\n",
              "      <th>263</th>\n",
              "      <td>09/24/2019</td>\n",
              "      <td>Credit reporting, credit repair services, or o...</td>\n",
              "      <td>Credit reporting</td>\n",
              "      <td>Problem with a credit reporting company's inve...</td>\n",
              "      <td>Their investigation did not fix an error on yo...</td>\n",
              "      <td>this is the final complaint that I am going to...</td>\n",
              "      <td>Company has responded to the consumer and the ...</td>\n",
              "      <td>Certegy Holdings, LLC</td>\n",
              "      <td>OH</td>\n",
              "      <td>450XX</td>\n",
              "      <td>NaN</td>\n",
              "      <td>Consent provided</td>\n",
              "      <td>Web</td>\n",
              "      <td>09/24/2019</td>\n",
              "      <td>Closed with explanation</td>\n",
              "      <td>Yes</td>\n",
              "      <td>NaN</td>\n",
              "      <td>3384460</td>\n",
              "    </tr>\n",
              "    <tr>\n",
              "      <th>291</th>\n",
              "      <td>09/24/2019</td>\n",
              "      <td>Debt collection</td>\n",
              "      <td>Medical debt</td>\n",
              "      <td>Attempts to collect debt not owed</td>\n",
              "      <td>Debt was result of identity theft</td>\n",
              "      <td>This amount is XXXX dollars is not mine and Im...</td>\n",
              "      <td>Company has responded to the consumer and the ...</td>\n",
              "      <td>American Credit Bureau, Inc.</td>\n",
              "      <td>FL</td>\n",
              "      <td>328XX</td>\n",
              "      <td>NaN</td>\n",
              "      <td>Consent provided</td>\n",
              "      <td>Web</td>\n",
              "      <td>09/24/2019</td>\n",
              "      <td>Closed with explanation</td>\n",
              "      <td>Yes</td>\n",
              "      <td>NaN</td>\n",
              "      <td>3384012</td>\n",
              "    </tr>\n",
              "    <tr>\n",
              "      <th>315</th>\n",
              "      <td>09/24/2019</td>\n",
              "      <td>Debt collection</td>\n",
              "      <td>I do not know</td>\n",
              "      <td>Attempts to collect debt not owed</td>\n",
              "      <td>Debt is not yours</td>\n",
              "      <td>After numerous attempts to get verification ab...</td>\n",
              "      <td>Company has responded to the consumer and the ...</td>\n",
              "      <td>Medical Data Systems, Inc.</td>\n",
              "      <td>SC</td>\n",
              "      <td>NaN</td>\n",
              "      <td>NaN</td>\n",
              "      <td>Consent provided</td>\n",
              "      <td>Web</td>\n",
              "      <td>09/24/2019</td>\n",
              "      <td>Closed with explanation</td>\n",
              "      <td>Yes</td>\n",
              "      <td>NaN</td>\n",
              "      <td>3383985</td>\n",
              "    </tr>\n",
              "    <tr>\n",
              "      <th>321</th>\n",
              "      <td>09/24/2019</td>\n",
              "      <td>Debt collection</td>\n",
              "      <td>I do not know</td>\n",
              "      <td>Took or threatened to take negative or legal a...</td>\n",
              "      <td>Threatened or suggested your credit would be d...</td>\n",
              "      <td>I received a letter stating i owned this compa...</td>\n",
              "      <td>Company believes the complaint is the result o...</td>\n",
              "      <td>CCS Financial Services, Inc.</td>\n",
              "      <td>NY</td>\n",
              "      <td>115XX</td>\n",
              "      <td>NaN</td>\n",
              "      <td>Consent provided</td>\n",
              "      <td>Web</td>\n",
              "      <td>09/24/2019</td>\n",
              "      <td>Closed with explanation</td>\n",
              "      <td>Yes</td>\n",
              "      <td>NaN</td>\n",
              "      <td>3384865</td>\n",
              "    </tr>\n",
              "    <tr>\n",
              "      <th>326</th>\n",
              "      <td>09/24/2019</td>\n",
              "      <td>Debt collection</td>\n",
              "      <td>I do not know</td>\n",
              "      <td>Attempts to collect debt not owed</td>\n",
              "      <td>Debt is not yours</td>\n",
              "      <td>XXXX XXXX XXXX XXXX XXXX XXXX XXXX, GA XXXX CR...</td>\n",
              "      <td>Company believes the complaint is the result o...</td>\n",
              "      <td>CCS Financial Services, Inc.</td>\n",
              "      <td>GA</td>\n",
              "      <td>305XX</td>\n",
              "      <td>Servicemember</td>\n",
              "      <td>Consent provided</td>\n",
              "      <td>Web</td>\n",
              "      <td>09/24/2019</td>\n",
              "      <td>Closed with explanation</td>\n",
              "      <td>Yes</td>\n",
              "      <td>NaN</td>\n",
              "      <td>3383856</td>\n",
              "    </tr>\n",
              "  </tbody>\n",
              "</table>\n",
              "</div>"
            ],
            "text/plain": [
              "    Date received  ... Complaint ID\n",
              "263    09/24/2019  ...      3384460\n",
              "291    09/24/2019  ...      3384012\n",
              "315    09/24/2019  ...      3383985\n",
              "321    09/24/2019  ...      3384865\n",
              "326    09/24/2019  ...      3383856\n",
              "\n",
              "[5 rows x 18 columns]"
            ]
          },
          "metadata": {
            "tags": []
          },
          "execution_count": 4
        }
      ]
    },
    {
      "cell_type": "markdown",
      "metadata": {
        "id": "ESEZ_PGmb9gq",
        "colab_type": "text"
      },
      "source": [
        "### Count of Company Responses"
      ]
    },
    {
      "cell_type": "code",
      "metadata": {
        "id": "V0lZdr6sOQ7I",
        "colab_type": "code",
        "outputId": "90598dd5-7ce1-4240-ef6e-1c6298b7ccb9",
        "colab": {
          "base_uri": "https://localhost:8080/",
          "height": 123
        }
      },
      "source": [
        "proc_df['Company response to consumer'].value_counts()"
      ],
      "execution_count": 5,
      "outputs": [
        {
          "output_type": "execute_result",
          "data": {
            "text/plain": [
              "Closed with explanation            359418\n",
              "Closed with non-monetary relief     54254\n",
              "Closed with monetary relief         24334\n",
              "Closed                               3741\n",
              "Untimely response                    2935\n",
              "Name: Company response to consumer, dtype: int64"
            ]
          },
          "metadata": {
            "tags": []
          },
          "execution_count": 5
        }
      ]
    },
    {
      "cell_type": "markdown",
      "metadata": {
        "id": "CLRaEdpScKy0",
        "colab_type": "text"
      },
      "source": [
        "### Sample the Data\n",
        "\n",
        "#####Take an even sample of 20,000 responses: w/ explanation and w/ monetary relief"
      ]
    },
    {
      "cell_type": "code",
      "metadata": {
        "id": "QivVOc8ULOK4",
        "colab_type": "code",
        "colab": {}
      },
      "source": [
        "tmp_df_1 = proc_df[proc_df['Company response to consumer']=='Closed with explanation'].sample(22000, random_state=42)\n",
        "\n",
        "tmp_df_2 = proc_df[proc_df['Company response to consumer']=='Closed with monetary relief'].sample(22000, random_state=42)\n",
        "\n",
        "df = tmp_df_1.append(tmp_df_2)"
      ],
      "execution_count": 0,
      "outputs": []
    },
    {
      "cell_type": "markdown",
      "metadata": {
        "id": "GA3HlpHYcIY5",
        "colab_type": "text"
      },
      "source": [
        "### Create Dictionary to Replace Target Responses with Binary"
      ]
    },
    {
      "cell_type": "code",
      "metadata": {
        "id": "1ip3yVN_4yLn",
        "colab_type": "code",
        "outputId": "f13f9ff1-e583-40ca-e46f-332124e1c873",
        "colab": {
          "base_uri": "https://localhost:8080/",
          "height": 70
        }
      },
      "source": [
        "replace_dict = {'Closed with explanation': 0, 'Closed with monetary relief': 1}\n",
        "\n",
        "df['Company response to consumer'].replace(replace_dict, inplace=True)\n",
        "\n",
        "df['Company response to consumer'].value_counts()"
      ],
      "execution_count": 7,
      "outputs": [
        {
          "output_type": "execute_result",
          "data": {
            "text/plain": [
              "1    22000\n",
              "0    22000\n",
              "Name: Company response to consumer, dtype: int64"
            ]
          },
          "metadata": {
            "tags": []
          },
          "execution_count": 7
        }
      ]
    },
    {
      "cell_type": "markdown",
      "metadata": {
        "id": "nGyCWF7XcT3S",
        "colab_type": "text"
      },
      "source": [
        "### Clean Text Data\n",
        "\n",
        "##### Clean data so that only alphabetic letters remain. Also remove capital Xs because they are used to conceal personal information."
      ]
    },
    {
      "cell_type": "code",
      "metadata": {
        "id": "jtDXk84mMtGm",
        "colab_type": "code",
        "colab": {}
      },
      "source": [
        "clean = [re.sub('[^A-WY-Za-z.\\s\\']', '', str(text)) for text in df['Consumer complaint narrative']]\n",
        "\n",
        "split_word_nars = [nar.split() for nar in clean]\n",
        "\n",
        "\"\"\"Contractions Import\"\"\"\n",
        "\n",
        "import sys\n",
        "sys.path.append('/content/drive/My Drive')\n",
        "from english_contractions import replace_contraction\n",
        "\n",
        "\"\"\" Loops \"\"\"\n",
        "\n",
        "new_words = []\n",
        "\n",
        "for nar in split_word_nars:\n",
        "\n",
        "  nar_words = []\n",
        "\n",
        "  for word in nar:\n",
        "\n",
        "    if re.search('\\w+[.]', word):\n",
        "\n",
        "      splitted = word.split('.')\n",
        "\n",
        "      tmp_words = replace_contraction(splitted[0].lower())\n",
        "\n",
        "      for w in tmp_words.split():\n",
        "\n",
        "        nar_words.append(w)\n",
        "\n",
        "      nar_words.append('.')\n",
        "    \n",
        "    elif re.search('\\w+[,]', word):\n",
        "\n",
        "      splitted = word.split(',')\n",
        "\n",
        "      tmp_words = replace_contraction(splitted[0].lower())\n",
        "\n",
        "      for w in tmp_words.split():\n",
        "\n",
        "        nar_words.append(w)\n",
        "      \n",
        "      nar_words.append(',')\n",
        "    \n",
        "    else:\n",
        "\n",
        "      tmp_words = replace_contraction(word)\n",
        "\n",
        "      for w in tmp_words.split():\n",
        "\n",
        "        nar_words.append(w)\n",
        "  \n",
        "  nar_words = [word for word in nar_words]\n",
        "\n",
        "  new_words.append(' '.join(nar_words))\n",
        "\n",
        "df['Cleaned narratives'] = new_words"
      ],
      "execution_count": 0,
      "outputs": []
    },
    {
      "cell_type": "markdown",
      "metadata": {
        "id": "hZ7OndMFW27-",
        "colab_type": "text"
      },
      "source": [
        "## Tokenize"
      ]
    },
    {
      "cell_type": "code",
      "metadata": {
        "id": "dqYsYcIOH4A_",
        "colab_type": "code",
        "outputId": "b2561ac6-4fda-4287-d6cd-be50fb7165e9",
        "colab": {
          "base_uri": "https://localhost:8080/",
          "height": 34
        }
      },
      "source": [
        "lengths = []\n",
        "\n",
        "for nar in df['Cleaned narratives']:\n",
        "\n",
        "  tot_words = len(nar.split())\n",
        "\n",
        "  lengths.append(tot_words)\n",
        "\n",
        "np.mean(lengths), np.quantile(lengths, q=0.9)"
      ],
      "execution_count": 9,
      "outputs": [
        {
          "output_type": "execute_result",
          "data": {
            "text/plain": [
              "(223.61736363636365, 477.0)"
            ]
          },
          "metadata": {
            "tags": []
          },
          "execution_count": 9
        }
      ]
    },
    {
      "cell_type": "code",
      "metadata": {
        "id": "CgBZF-W5W2Qe",
        "colab_type": "code",
        "colab": {}
      },
      "source": [
        "from keras.preprocessing.text import Tokenizer\n",
        "from keras.preprocessing.sequence import pad_sequences\n",
        "\n",
        "max_len_text = 200\n",
        "\n",
        "max_words = 20000\n",
        "\n",
        "tokenizer = Tokenizer(num_words=max_words, filters='')\n",
        "\n",
        "tokenizer.fit_on_texts(df['Cleaned narratives'])\n",
        "\n",
        "# convert text sequences into integer sequences\n",
        "X = tokenizer.texts_to_sequences(df['Cleaned narratives'])\n",
        "\n",
        "# padding zero up to maximum length\n",
        "X_proc = pad_sequences(X, maxlen=max_len_text, padding='pre')\n",
        "\n",
        "max_id = max_words + 1"
      ],
      "execution_count": 0,
      "outputs": []
    },
    {
      "cell_type": "markdown",
      "metadata": {
        "id": "y6yLBW3-F-XG",
        "colab_type": "text"
      },
      "source": [
        "## Train Test Split"
      ]
    },
    {
      "cell_type": "code",
      "metadata": {
        "id": "tdOSzABcXsCD",
        "colab_type": "code",
        "colab": {}
      },
      "source": [
        "from sklearn.model_selection import train_test_split\n",
        "\n",
        "y = df['Company response to consumer']\n",
        "\n",
        "# Test split:\n",
        "X_train_val, X_test, y_train_val, y_test = train_test_split(X_proc, y, stratify=y, test_size=1000, random_state=42)\n",
        "\n",
        "# Val split:\n",
        "X_train, X_val, y_train, y_val = train_test_split(X_train_val, y_train_val, stratify=y_train_val, test_size=4000, random_state=42)"
      ],
      "execution_count": 0,
      "outputs": []
    },
    {
      "cell_type": "markdown",
      "metadata": {
        "id": "NtJiPyBT4RkQ",
        "colab_type": "text"
      },
      "source": [
        "## Establish Checkpoints"
      ]
    },
    {
      "cell_type": "code",
      "metadata": {
        "id": "q4ZY0gAm4EBq",
        "colab_type": "code",
        "outputId": "7af157e7-533e-4984-d794-8e362bf9fb97",
        "colab": {
          "base_uri": "https://localhost:8080/",
          "height": 52
        }
      },
      "source": [
        "import tensorflow as tf\n",
        "from tensorflow import keras\n",
        "\n",
        "# Early Stopping\n",
        "\n",
        "early_stop = tf.keras.callbacks.EarlyStopping(monitor='val_loss', patience=2, restore_best_weights=True)\n",
        "\n",
        "# Checkpointing Model Weights\n",
        "\n",
        "import os\n",
        "\n",
        "checkpoint_path = 'checkpoints/cp-{epoch:01d}.ckpt'\n",
        "\n",
        "checkpoint_dir = os.path.dirname(checkpoint_path)\n",
        "\n",
        "checkpoint_cb = tf.keras.callbacks.ModelCheckpoint(filepath=checkpoint_path, verbose=1, save_weights_only=True, period=1)\n",
        "\n",
        "latest_checkpoint = tf.train.latest_checkpoint(checkpoint_dir)\n",
        "\n",
        "latest_checkpoint"
      ],
      "execution_count": 31,
      "outputs": [
        {
          "output_type": "stream",
          "text": [
            "WARNING:tensorflow:`period` argument is deprecated. Please use `save_freq` to specify the frequency in number of batches seen.\n"
          ],
          "name": "stdout"
        },
        {
          "output_type": "execute_result",
          "data": {
            "text/plain": [
              "'checkpoints/cp-5.ckpt'"
            ]
          },
          "metadata": {
            "tags": []
          },
          "execution_count": 31
        }
      ]
    },
    {
      "cell_type": "markdown",
      "metadata": {
        "id": "vCr0D6Dy4TnH",
        "colab_type": "text"
      },
      "source": [
        "## Bidirectional LSTM Model"
      ]
    },
    {
      "cell_type": "code",
      "metadata": {
        "id": "IhSOz4MnXxYD",
        "colab_type": "code",
        "outputId": "428e2fb0-f924-4a71-9dea-5f9733b9cbd4",
        "colab": {
          "base_uri": "https://localhost:8080/",
          "height": 407
        }
      },
      "source": [
        "import tensorflow as tf\n",
        "from tensorflow import keras\n",
        "\n",
        "emb_reg, reg_factor = 0, 0\n",
        "\n",
        "dropout_rate = 0.5\n",
        "\n",
        "emb_dim, lstm_dim, dense_dim = 512, 256, 512\n",
        "\n",
        "model = Sequential()\n",
        "\n",
        "model.add(Embedding(max_id, emb_dim, input_length=max_len_text, embeddings_regularizer=l2(emb_reg)))\n",
        "\n",
        "model.add(Bidirectional(LSTM(lstm_dim, return_sequences=True, kernel_regularizer=l2(reg_factor), dropout=dropout_rate)))\n",
        "\n",
        "model.add(Bidirectional(LSTM(lstm_dim, return_sequences=False, kernel_regularizer=l2(reg_factor), dropout=dropout_rate)))\n",
        "\n",
        "model.add(Dense(dense_dim, activation='relu', kernel_regularizer=l2(reg_factor)))\n",
        "\n",
        "model.add(Dropout(dropout_rate))\n",
        "\n",
        "model.add(Dense(dense_dim, activation='relu', kernel_regularizer=l2(reg_factor)))\n",
        "\n",
        "model.add(Dense(1, activation='sigmoid'))\n",
        "\n",
        "model.compile(optimizer='adamax', loss='binary_crossentropy', metrics=['acc'])\n",
        "\n",
        "model.summary()"
      ],
      "execution_count": 52,
      "outputs": [
        {
          "output_type": "stream",
          "text": [
            "Model: \"sequential_18\"\n",
            "_________________________________________________________________\n",
            "Layer (type)                 Output Shape              Param #   \n",
            "=================================================================\n",
            "embedding_17 (Embedding)     (None, 200, 512)          10240512  \n",
            "_________________________________________________________________\n",
            "bidirectional_32 (Bidirectio (None, 200, 512)          1574912   \n",
            "_________________________________________________________________\n",
            "bidirectional_33 (Bidirectio (None, 512)               1574912   \n",
            "_________________________________________________________________\n",
            "dense_42 (Dense)             (None, 512)               262656    \n",
            "_________________________________________________________________\n",
            "dropout_10 (Dropout)         (None, 512)               0         \n",
            "_________________________________________________________________\n",
            "dense_43 (Dense)             (None, 512)               262656    \n",
            "_________________________________________________________________\n",
            "dense_44 (Dense)             (None, 1)                 513       \n",
            "=================================================================\n",
            "Total params: 13,916,161\n",
            "Trainable params: 13,916,161\n",
            "Non-trainable params: 0\n",
            "_________________________________________________________________\n"
          ],
          "name": "stdout"
        }
      ]
    },
    {
      "cell_type": "code",
      "metadata": {
        "id": "zfdvXmv3WiOz",
        "colab_type": "code",
        "colab": {
          "base_uri": "https://localhost:8080/",
          "height": 176
        },
        "outputId": "0fc6be89-e7b0-4f2b-e71f-43fc77399ef8"
      },
      "source": [
        "epochs = 4\n",
        "\n",
        "batch_size = 256\n",
        "\n",
        "model.fit(X_train, y_train, validation_data=(X_val, y_val), epochs=epochs, batch_size=batch_size)"
      ],
      "execution_count": 53,
      "outputs": [
        {
          "output_type": "stream",
          "text": [
            "Epoch 1/4\n",
            "153/153 [==============================] - 49s 321ms/step - loss: 0.4836 - acc: 0.7711 - val_loss: 0.4153 - val_acc: 0.8263\n",
            "Epoch 2/4\n",
            "153/153 [==============================] - 48s 312ms/step - loss: 0.3998 - acc: 0.8307 - val_loss: 0.3967 - val_acc: 0.8315\n",
            "Epoch 3/4\n",
            "153/153 [==============================] - 48s 312ms/step - loss: 0.3811 - acc: 0.8408 - val_loss: 0.3931 - val_acc: 0.8353\n",
            "Epoch 4/4\n",
            "153/153 [==============================] - 48s 313ms/step - loss: 0.3639 - acc: 0.8508 - val_loss: 0.3956 - val_acc: 0.8342\n"
          ],
          "name": "stdout"
        },
        {
          "output_type": "execute_result",
          "data": {
            "text/plain": [
              "<tensorflow.python.keras.callbacks.History at 0x7fb040713a90>"
            ]
          },
          "metadata": {
            "tags": []
          },
          "execution_count": 53
        }
      ]
    },
    {
      "cell_type": "markdown",
      "metadata": {
        "id": "M3GzFF7oaJjC",
        "colab_type": "text"
      },
      "source": [
        "## Evaluate Model on Test Set"
      ]
    },
    {
      "cell_type": "code",
      "metadata": {
        "id": "XalAQVZpZ1ue",
        "colab_type": "code",
        "colab": {
          "base_uri": "https://localhost:8080/",
          "height": 52
        },
        "outputId": "66bfaccc-9345-46f5-b3df-bc532841a3ac"
      },
      "source": [
        "model.evaluate(X_test, y_test)"
      ],
      "execution_count": 54,
      "outputs": [
        {
          "output_type": "stream",
          "text": [
            "32/32 [==============================] - 1s 31ms/step - loss: 0.4007 - acc: 0.8340\n"
          ],
          "name": "stdout"
        },
        {
          "output_type": "execute_result",
          "data": {
            "text/plain": [
              "[0.40066492557525635, 0.8339999914169312]"
            ]
          },
          "metadata": {
            "tags": []
          },
          "execution_count": 54
        }
      ]
    },
    {
      "cell_type": "markdown",
      "metadata": {
        "id": "rFMXQpGpoBM4",
        "colab_type": "text"
      },
      "source": [
        "The final model (after multiple iterations) returned an 83.4% accuracy score on the test set. The model consisted of a 512-unit embedding layer connected to two bidirectional lstm layers of 512 units each, which were in turn connected to two 512-unit dense layers before connecting to a sigmoid activation output unit at the end. The bidirectional layers were used to encode the text in both directions before passing the output to dense, fully connected layers to sort out the encoded data before classification. Given that only text data was used in classification, an 83.4% accuracy score on a balanced test set is a promising result. What it means is that, given a consumer complaint, this classifier can determine whether or not it will receive monetary compensation with 83.4% accuracy."
      ]
    },
    {
      "cell_type": "code",
      "metadata": {
        "id": "zZS2AAjaojgk",
        "colab_type": "code",
        "colab": {}
      },
      "source": [
        ""
      ],
      "execution_count": 0,
      "outputs": []
    }
  ]
}